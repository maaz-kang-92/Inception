{
  "nbformat": 4,
  "nbformat_minor": 0,
  "metadata": {
    "colab": {
      "provenance": []
    },
    "kernelspec": {
      "name": "python3",
      "display_name": "Python 3"
    },
    "language_info": {
      "name": "python"
    }
  },
  "cells": [
    {
      "cell_type": "markdown",
      "source": [
        "# Working with INCEpTION slot features in DKPro Cassis\n",
        "\n",
        "Let's first create a `requirements.txt` file from which we install all necessary Python dependencies.\n"
      ],
      "metadata": {
        "id": "WttJbgG7zlWD"
      }
    },
    {
      "cell_type": "code",
      "execution_count": null,
      "metadata": {
        "id": "NrgnepbXu5DA"
      },
      "outputs": [],
      "source": [
        "%%writefile requirements.txt\n",
        "# We use a direct commit reference here because we use types instead of type\n",
        "# names as arguments in the select calls.\n",
        "# See: https://github.com/dkpro/dkpro-cassis/issues/217\n",
        "# If you want to try this code with cassis 0.7.x, you would need to use e.g.\n",
        "# `cas.select(SemPred.name)` instead of `cas.select(SemPred)`\n",
        "dkpro-cassis @ git+https://github.com/dkpro/dkpro-cassis@95a9d4ce99e1d932e1a587586152a8d1ffc23875"
      ]
    },
    {
      "cell_type": "markdown",
      "source": [
        "Now let's install the dependencies."
      ],
      "metadata": {
        "id": "9D4WOx_szxtY"
      }
    },
    {
      "cell_type": "code",
      "source": [
        "!pip install -r requirements.txt"
      ],
      "metadata": {
        "id": "PZT1zIL2v-RQ"
      },
      "execution_count": null,
      "outputs": []
    },
    {
      "cell_type": "markdown",
      "source": [
        "Next, we provide ourselves with an UIMA type system description. This is an XML file which we can get for example by going to the **Project settings** in INCEpTION, navigating to the **Layers** tab there, selecting any layer, and then using the **Export** button from the **Layer** pane to export **UIMA (all layers)**.\n",
        "\n",
        "The particular example below was exported from a project created using the **Empty project** template and then adding the built-in **Predicate argument structure** layers from the **Create** dropdown in the **Layers** tab of the **Project settings**.\n",
        "\n",
        "![Screenshot 2023-02-07 at 13.20.32.png](data:image/png;base64,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)"
      ],
      "metadata": {
        "id": "BC2aISUiz4vn"
      }
    },
    {
      "cell_type": "code",
      "source": [
        "%%writefile typesystem.xml\n",
        "<?xml version=\"1.0\" encoding=\"UTF-8\"?>\n",
        "<typeSystemDescription xmlns=\"http://uima.apache.org/resourceSpecifier\">\n",
        "    <types>\n",
        "        <typeDescription>\n",
        "            <name>de.tudarmstadt.ukp.dkpro.core.api.semantics.type.SemArg</name>\n",
        "            <supertypeName>uima.tcas.Annotation</supertypeName>\n",
        "        </typeDescription>\n",
        "\n",
        "        <typeDescription>\n",
        "            <name>de.tudarmstadt.ukp.dkpro.core.api.semantics.type.SemArgLink</name>\n",
        "            <supertypeName>uima.cas.TOP</supertypeName>\n",
        "            <features>\n",
        "                <featureDescription>\n",
        "                    <name>role</name>\n",
        "                    <rangeTypeName>uima.cas.String</rangeTypeName>\n",
        "                </featureDescription>\n",
        "                <featureDescription>\n",
        "                    <name>target</name>\n",
        "                    <rangeTypeName>de.tudarmstadt.ukp.dkpro.core.api.semantics.type.SemArg</rangeTypeName>\n",
        "                </featureDescription>\n",
        "            </features>\n",
        "        </typeDescription>\n",
        "                \n",
        "        <typeDescription>\n",
        "            <name>de.tudarmstadt.ukp.dkpro.core.api.semantics.type.SemPred</name>\n",
        "            <supertypeName>uima.tcas.Annotation</supertypeName>\n",
        "            <features>\n",
        "                <featureDescription>\n",
        "                    <name>arguments</name>\n",
        "                    <rangeTypeName>uima.cas.FSArray</rangeTypeName>\n",
        "                    <elementType>de.tudarmstadt.ukp.dkpro.core.api.semantics.type.SemArgLink</elementType>\n",
        "                </featureDescription>\n",
        "                <featureDescription>\n",
        "                    <name>category</name>\n",
        "                    <rangeTypeName>uima.cas.String</rangeTypeName>\n",
        "                </featureDescription>\n",
        "            </features>\n",
        "        </typeDescription>\n",
        "    </types>\n",
        "</typeSystemDescription>"
      ],
      "metadata": {
        "id": "RHo5J1cmwYlo"
      },
      "execution_count": null,
      "outputs": []
    },
    {
      "cell_type": "markdown",
      "source": [
        "Now, we can load the type system definition and fetch a few annotation types from it to work with."
      ],
      "metadata": {
        "id": "4Pi_B-J_1RcJ"
      }
    },
    {
      "cell_type": "code",
      "source": [
        "from cassis import *\n",
        "from pathlib import Path\n",
        "from cassis.typesystem import TYPE_NAME_FS_ARRAY\n",
        "\n",
        "typesystem = load_typesystem(Path('typesystem.xml'))\n",
        "FSArray = typesystem.get_type(TYPE_NAME_FS_ARRAY)\n",
        "SemPred = typesystem.get_type('de.tudarmstadt.ukp.dkpro.core.api.semantics.type.SemPred')\n",
        "SemArg = typesystem.get_type('de.tudarmstadt.ukp.dkpro.core.api.semantics.type.SemArg')\n",
        "SemArgLink = typesystem.get_type('de.tudarmstadt.ukp.dkpro.core.api.semantics.type.SemArgLink')"
      ],
      "metadata": {
        "id": "EAZ214O3xuQe"
      },
      "execution_count": null,
      "outputs": []
    },
    {
      "cell_type": "markdown",
      "source": [
        "Now, we create ourselves CAS object which will hold the document text as well as the annotations. \n",
        "\n",
        "Then we add a basic predicate argument structure consisting of three annotations:\n",
        "\n",
        "* `arg_0` (type: `SemArg`) - we use it to annotate the \"buyer\" actor (i.e. the subject).\n",
        "* `arg_1` (type: `SemArg`) - we use it to annotate the \"bought\" item (i.e. the object).\n",
        "* `frame` (type: `SemPred`) - we use it to annotate the action (i.e. predicate). This annotation also contain a **slot feature** `arguments` that is used to link to the arguments (`arg_0`, `arg_1`; type `SemArgLink`)\n",
        "\n",
        "Once everything has been added to the CAS, we dump it as XMI to have a brief look."
      ],
      "metadata": {
        "id": "q0XYTG_b1cVQ"
      }
    },
    {
      "cell_type": "code",
      "source": [
        "cas = Cas(typesystem=typesystem)\n",
        "#                            1         2\n",
        "#                  0123456789012345678901234\n",
        "cas.sofa_string = \"Andrea bought a new car.\"\n",
        "\n",
        "arg_0 = SemArg(begin=0, end=6)\n",
        "arg_1 = SemArg(begin=14, end=23)\n",
        "frame = SemPred(begin=7, end=13)\n",
        "frame.arguments=FSArray(elements=[SemArgLink(role=\"buyer\", target=arg_0), SemArgLink(role=\"bought\", target=arg_1)])\n",
        "cas.add_all([arg_0, arg_1, frame])\n",
        "\n",
        "print(cas.to_xmi(pretty_print=True))"
      ],
      "metadata": {
        "id": "xixO22FWyp5H"
      },
      "execution_count": null,
      "outputs": []
    },
    {
      "cell_type": "markdown",
      "source": [
        "Now, let's see how we can again retrieve the predicate argument structure from the CAS."
      ],
      "metadata": {
        "id": "cKaS0h4c2jCg"
      }
    },
    {
      "cell_type": "code",
      "source": [
        "for frame in cas.select(SemPred):\n",
        "  print(f\"Predicate: {frame.get_covered_text()}\")\n",
        "  for arg in frame.arguments.elements:\n",
        "    print(f\"  {arg.role}: {arg.target.get_covered_text()}\")\n"
      ],
      "metadata": {
        "id": "kX_-BX28NYFX"
      },
      "execution_count": null,
      "outputs": []
    }
  ]
}